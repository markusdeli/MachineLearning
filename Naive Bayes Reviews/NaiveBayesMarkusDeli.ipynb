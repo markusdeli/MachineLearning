{
  "nbformat": 4,
  "nbformat_minor": 0,
  "metadata": {
    "kernelspec": {
      "display_name": "Python 3",
      "language": "python",
      "name": "python3"
    },
    "language_info": {
      "codemirror_mode": {
        "name": "ipython",
        "version": 3
      },
      "file_extension": ".py",
      "mimetype": "text/x-python",
      "name": "python",
      "nbconvert_exporter": "python",
      "pygments_lexer": "ipython3",
      "version": "3.7.3"
    },
    "colab": {
      "name": "StudienleistungNaiveBayesMarkusDeli.ipynb",
      "provenance": []
    }
  },
  "cells": [
    {
      "cell_type": "markdown",
      "metadata": {
        "id": "SC2-bPYtAJ-F"
      },
      "source": [
        "<font size=\"48\">Entwicklung eines Naive Bayes Klassifikator</font>"
      ]
    },
    {
      "cell_type": "markdown",
      "metadata": {
        "id": "tM0AiSDdAJ-G"
      },
      "source": [
        " "
      ]
    },
    {
      "cell_type": "markdown",
      "metadata": {
        "id": "PhNS65DkAJ-I"
      },
      "source": [
        "<h5>Digitalisierung 5 Markus Deli</h5>"
      ]
    },
    {
      "cell_type": "markdown",
      "metadata": {
        "id": "yD2J7DMvAJ-J"
      },
      "source": [
        " "
      ]
    },
    {
      "cell_type": "markdown",
      "metadata": {
        "id": "JIPzBqNbAJ-K"
      },
      "source": [
        " "
      ]
    },
    {
      "cell_type": "markdown",
      "metadata": {
        "id": "PZC44MioAJ-L"
      },
      "source": [
        " "
      ]
    },
    {
      "cell_type": "markdown",
      "metadata": {
        "id": "15N1xwsLAJ-M"
      },
      "source": [
        " "
      ]
    },
    {
      "cell_type": "markdown",
      "metadata": {
        "id": "gyw6bYj-AJ-M"
      },
      "source": [
        "Zunächst einmal machen wir die ersten Imports um unsere Daten wir zu verarbeiten, danach laden wir alle notwendigen Restinhalte herunter."
      ]
    },
    {
      "cell_type": "code",
      "metadata": {
        "id": "t2U4qSHnAJ-N"
      },
      "source": [
        "import pandas as pd"
      ],
      "execution_count": null,
      "outputs": []
    },
    {
      "cell_type": "code",
      "metadata": {
        "id": "pFJBdjq6AJ-R"
      },
      "source": [
        "import numpy as np"
      ],
      "execution_count": null,
      "outputs": []
    },
    {
      "cell_type": "code",
      "metadata": {
        "id": "yMBNv7JuAJ-U"
      },
      "source": [
        "import nltk "
      ],
      "execution_count": null,
      "outputs": []
    },
    {
      "cell_type": "code",
      "metadata": {
        "id": "MQ_yPq3_AJ-Y"
      },
      "source": [
        "import re"
      ],
      "execution_count": null,
      "outputs": []
    },
    {
      "cell_type": "code",
      "metadata": {
        "id": "8HKg3DUeAJ-a"
      },
      "source": [
        "from nltk.corpus import stopwords"
      ],
      "execution_count": null,
      "outputs": []
    },
    {
      "cell_type": "code",
      "metadata": {
        "id": "R4EqHplrAJ-d",
        "outputId": "38b05ede-dac3-4485-b6fc-849cca52d172"
      },
      "source": [
        "nltk.download('punkt')"
      ],
      "execution_count": null,
      "outputs": [
        {
          "output_type": "stream",
          "text": [
            "[nltk_data] Downloading package punkt to /home/jovyan/nltk_data...\n",
            "[nltk_data]   Package punkt is already up-to-date!\n"
          ],
          "name": "stderr"
        },
        {
          "output_type": "execute_result",
          "data": {
            "text/plain": [
              "True"
            ]
          },
          "metadata": {
            "tags": []
          },
          "execution_count": 6
        }
      ]
    },
    {
      "cell_type": "code",
      "metadata": {
        "id": "BsqcnQGDAJ-j",
        "outputId": "6b205c4a-eb13-46dc-eca8-2322f674634f"
      },
      "source": [
        "nltk.download('wordnet')"
      ],
      "execution_count": null,
      "outputs": [
        {
          "output_type": "stream",
          "text": [
            "[nltk_data] Downloading package wordnet to /home/jovyan/nltk_data...\n",
            "[nltk_data]   Package wordnet is already up-to-date!\n"
          ],
          "name": "stderr"
        },
        {
          "output_type": "execute_result",
          "data": {
            "text/plain": [
              "True"
            ]
          },
          "metadata": {
            "tags": []
          },
          "execution_count": 7
        }
      ]
    },
    {
      "cell_type": "code",
      "metadata": {
        "id": "sUO-sCoYAJ-l",
        "outputId": "b2c2caec-cab9-40d3-e3a5-6e4e3d0f2dec"
      },
      "source": [
        "nltk.download('stopwords')"
      ],
      "execution_count": null,
      "outputs": [
        {
          "output_type": "stream",
          "text": [
            "[nltk_data] Downloading package stopwords to /home/jovyan/nltk_data...\n",
            "[nltk_data]   Package stopwords is already up-to-date!\n"
          ],
          "name": "stderr"
        },
        {
          "output_type": "execute_result",
          "data": {
            "text/plain": [
              "True"
            ]
          },
          "metadata": {
            "tags": []
          },
          "execution_count": 8
        }
      ]
    },
    {
      "cell_type": "code",
      "metadata": {
        "id": "i0S9ZFYTAJ-p",
        "outputId": "4b232a60-048a-47f3-a6db-a889bbfb88fd"
      },
      "source": [
        "nltk.download('averaged_perceptron_tagger')"
      ],
      "execution_count": null,
      "outputs": [
        {
          "output_type": "stream",
          "text": [
            "[nltk_data] Downloading package averaged_perceptron_tagger to\n",
            "[nltk_data]     /home/jovyan/nltk_data...\n",
            "[nltk_data]   Package averaged_perceptron_tagger is already up-to-\n",
            "[nltk_data]       date!\n"
          ],
          "name": "stderr"
        },
        {
          "output_type": "execute_result",
          "data": {
            "text/plain": [
              "True"
            ]
          },
          "metadata": {
            "tags": []
          },
          "execution_count": 9
        }
      ]
    },
    {
      "cell_type": "markdown",
      "metadata": {
        "id": "kVW1Yd6hAJ-s"
      },
      "source": [
        "Nun bereiten wir den Data Frame vor. Hierzu lesen wir die CSV Datei 'IMDB Dataset.csv' ein. Die Datei enthält 50000 IMDB Filmreviews, \n",
        "<br>welche von 'https://www.kaggle.com/lakshmi25npathi/imdb-dataset-of-50k-movie-reviews' stammt.<br> Es gibt insgesamt zwei Spalten, eine mit den Reviews und eine mit dem Tag ob das Review\n",
        "positiv oder negativ ist. \n"
      ]
    },
    {
      "cell_type": "code",
      "metadata": {
        "id": "WUj_Ls83AJ-s"
      },
      "source": [
        "column = [\"text\", \"tag\"]\n",
        "data = pd.read_csv(\"IMDB Dataset.csv\", names=column)\n",
        "data = data.drop([0,])"
      ],
      "execution_count": null,
      "outputs": []
    },
    {
      "cell_type": "markdown",
      "metadata": {
        "id": "XzYqL0SLAJ-u"
      },
      "source": [
        "So sieht der Data Frame gerade aus:"
      ]
    },
    {
      "cell_type": "code",
      "metadata": {
        "id": "Vq7I2HO0AJ-v",
        "outputId": "dcce3e5c-1318-45b5-80c5-e489b6dbabd3"
      },
      "source": [
        "data.head()"
      ],
      "execution_count": null,
      "outputs": [
        {
          "output_type": "execute_result",
          "data": {
            "text/html": [
              "<div>\n",
              "<style scoped>\n",
              "    .dataframe tbody tr th:only-of-type {\n",
              "        vertical-align: middle;\n",
              "    }\n",
              "\n",
              "    .dataframe tbody tr th {\n",
              "        vertical-align: top;\n",
              "    }\n",
              "\n",
              "    .dataframe thead th {\n",
              "        text-align: right;\n",
              "    }\n",
              "</style>\n",
              "<table border=\"1\" class=\"dataframe\">\n",
              "  <thead>\n",
              "    <tr style=\"text-align: right;\">\n",
              "      <th></th>\n",
              "      <th>text</th>\n",
              "      <th>tag</th>\n",
              "    </tr>\n",
              "  </thead>\n",
              "  <tbody>\n",
              "    <tr>\n",
              "      <th>1</th>\n",
              "      <td>One of the other reviewers has mentioned that ...</td>\n",
              "      <td>positive</td>\n",
              "    </tr>\n",
              "    <tr>\n",
              "      <th>2</th>\n",
              "      <td>A wonderful little production. &lt;br /&gt;&lt;br /&gt;The...</td>\n",
              "      <td>positive</td>\n",
              "    </tr>\n",
              "    <tr>\n",
              "      <th>3</th>\n",
              "      <td>I thought this was a wonderful way to spend ti...</td>\n",
              "      <td>positive</td>\n",
              "    </tr>\n",
              "    <tr>\n",
              "      <th>4</th>\n",
              "      <td>Basically there's a family where a little boy ...</td>\n",
              "      <td>negative</td>\n",
              "    </tr>\n",
              "    <tr>\n",
              "      <th>5</th>\n",
              "      <td>Petter Mattei's \"Love in the Time of Money\" is...</td>\n",
              "      <td>positive</td>\n",
              "    </tr>\n",
              "  </tbody>\n",
              "</table>\n",
              "</div>"
            ],
            "text/plain": [
              "                                                text       tag\n",
              "1  One of the other reviewers has mentioned that ...  positive\n",
              "2  A wonderful little production. <br /><br />The...  positive\n",
              "3  I thought this was a wonderful way to spend ti...  positive\n",
              "4  Basically there's a family where a little boy ...  negative\n",
              "5  Petter Mattei's \"Love in the Time of Money\" is...  positive"
            ]
          },
          "metadata": {
            "tags": []
          },
          "execution_count": 11
        }
      ]
    },
    {
      "cell_type": "markdown",
      "metadata": {
        "id": "tQ_BX6mOAJ-x"
      },
      "source": [
        "Da der Dataframe noch recht unaufgeräumt ist und scheinbar noch HTML Tags enthält wird er erstmals aufgeräumt. "
      ]
    },
    {
      "cell_type": "code",
      "metadata": {
        "id": "eh8Rd_yOAJ-y"
      },
      "source": [
        "from nltk.tokenize import word_tokenize"
      ],
      "execution_count": null,
      "outputs": []
    },
    {
      "cell_type": "markdown",
      "metadata": {
        "id": "ncR9iiYvAJ-0"
      },
      "source": [
        "Zunächst einmal wird eine Preprocess Funktion erstellt. <br>Dieser kann man den zu verändernden String übergeben sowie eine boolsche Variable ob zusätzlich noch Stopwords entfernt werden sollen.\n",
        "<br>Die Funktion entfernt zuerst alle nicht Chars aus dem String die keine Buchstaben sind, dann alle Wörter die aus weniger als drei buchstaben bestehen <br>und dann noch alle überschüssigen Leerzeichen.\n",
        "Wenn Stopwords entfernt werden, wird zunächst jedes Review tokenisiert und dann werden alle Stopwords entfernt. <br>Wichtig ist hier dass die Stopwords in  ein Caches Set gespeichert werden da so die Laufzeit um das ca 300 fache kürzer ist,<br> als gegenüber des Aufrufs über '[word for word in text_tokens if word not in stopwords.words(\"english\")]' Somit kann der Datensatz stark entrauscht werden."
      ]
    },
    {
      "cell_type": "code",
      "metadata": {
        "id": "-hqcGFKcAJ-0"
      },
      "source": [
        "cache = set(stopwords.words(\"english\"))\n",
        "\n",
        "def preprocess_string(str_arg, stopword):\n",
        "    clean=re.sub('[^a-z\\s]+',' ',str_arg,flags=re.IGNORECASE)\n",
        "    clean=re.sub(r'\\b\\w{1,2}\\b', '', clean)\n",
        "    clean=re.sub('(\\s+)',' ',clean)\n",
        "    clean=clean.lower()\n",
        "    if stopword == True:        \n",
        "        text_tokens = word_tokenize(clean)\n",
        "        tokens_without_stop_words = [word for word in text_tokens if word not in cache]\n",
        "        clean =  (\" \").join(tokens_without_stop_words)\n",
        "    return clean "
      ],
      "execution_count": null,
      "outputs": []
    },
    {
      "cell_type": "markdown",
      "metadata": {
        "id": "l-n0O6QhAJ-4"
      },
      "source": [
        "Nun noch die Funktion ohne Stopword Removal auf dem Data Frame anwenden:"
      ]
    },
    {
      "cell_type": "code",
      "metadata": {
        "id": "Ac_dqMTkAJ-4"
      },
      "source": [
        "count = 0\n",
        "liste = []\n",
        "tmp = np.array(data['text'])\n",
        "for element in tmp:\n",
        "    liste.append(tmp[count])\n",
        "    liste[count] = preprocess_string(tmp[count], False)\n",
        "    count += 1"
      ],
      "execution_count": null,
      "outputs": []
    },
    {
      "cell_type": "markdown",
      "metadata": {
        "id": "viXl9cj9AJ-7"
      },
      "source": [
        "So sehen die Reviews jetzt aus:"
      ]
    },
    {
      "cell_type": "code",
      "metadata": {
        "id": "V5vq8xwDAJ-7",
        "outputId": "1cf0a4bf-640d-4630-8e84-b881f71019cc"
      },
      "source": [
        "print(liste[0])"
      ],
      "execution_count": null,
      "outputs": [
        {
          "output_type": "stream",
          "text": [
            "one the other reviewers has mentioned that after watching just episode you hooked they are right this exactly what happened with the first thing that struck about was its brutality and unflinching scenes violence which set right from the word trust this not show for the faint hearted timid this show pulls punches with regards drugs sex violence its hardcore the classic use the word called that the nickname given the oswald maximum security state penitentary focuses mainly emerald city experimental section the prison where all the cells have glass fronts and face inwards privacy not high the agenda city home many aryans muslims gangstas latinos christians italians irish and more scuffles death stares dodgy dealings and shady agreements are never far away would say the main appeal the show due the fact that goes where other shows wouldn dare forget pretty pictures painted for mainstream audiences forget charm forget romance doesn mess around the first episode ever saw struck nasty was surreal couldn say was ready for but watched more developed taste for and got accustomed the high levels graphic violence not just violence but injustice crooked guards who sold out for nickel inmates who kill order and get away with well mannered middle class inmates being turned into prison bitches due their lack street skills prison experience watching you may become comfortable with what uncomfortable viewing thats you can get touch with your darker side \n"
          ],
          "name": "stdout"
        }
      ]
    },
    {
      "cell_type": "markdown",
      "metadata": {
        "id": "QaIb7szFAJ-_"
      },
      "source": [
        "Natürlich wollen wir auch Lemmatisieren! Deshalb machen wir die nötigen Imports:"
      ]
    },
    {
      "cell_type": "code",
      "metadata": {
        "id": "0QoVI-y4AJ-_"
      },
      "source": [
        "from nltk.stem import WordNetLemmatizer\n",
        "from nltk.corpus import wordnet"
      ],
      "execution_count": null,
      "outputs": []
    },
    {
      "cell_type": "markdown",
      "metadata": {
        "id": "cK2VEJTAAJ_C"
      },
      "source": [
        "Da der Lemmatizer POS-tags unterstützt, nutzten wir dieses Feature in der Hoffnung dass das Lemmatisieren so noch besser klappt!(das tut es auch).<br> Deshalb erstellen wir eine Funktion die uns die nötigen Wortarten liefert:"
      ]
    },
    {
      "cell_type": "code",
      "metadata": {
        "id": "ybfbfiVeAJ_C"
      },
      "source": [
        "def nltk_to_wordnet_tag(nltk_tag):\n",
        "  if nltk_tag.startswith('N'):\n",
        "    return wordnet.NOUN\n",
        "  elif nltk_tag.startswith('V'):\n",
        "    return wordnet.VERB\n",
        "  elif nltk_tag.startswith('J'):\n",
        "    return wordnet.ADJ\n",
        "  elif nltk_tag.startswith('R'):\n",
        "    return wordnet.ADV\n",
        "  else:                    \n",
        "    return None"
      ],
      "execution_count": null,
      "outputs": []
    },
    {
      "cell_type": "markdown",
      "metadata": {
        "id": "XDBtTQcbAJ_F"
      },
      "source": [
        "*Noch* den Lemmatizer initalisieren:"
      ]
    },
    {
      "cell_type": "code",
      "metadata": {
        "id": "9MDfGNmTAJ_F"
      },
      "source": [
        "lemmatizer = WordNetLemmatizer()"
      ],
      "execution_count": null,
      "outputs": []
    },
    {
      "cell_type": "markdown",
      "metadata": {
        "id": "pAiZPoC8AJ_H"
      },
      "source": [
        "Jetzt die Funktion zum Lemmatisieren. Dazu mappen wir die POS tags mit Hilfe der obigen Funktion, sodass iterativ mit Hilfe der Tags(sofern vorhanden) lemmatisiert werden kann."
      ]
    },
    {
      "cell_type": "code",
      "metadata": {
        "id": "zckZaYJlAJ_I"
      },
      "source": [
        "def lemmatize_sentence(sentence):\n",
        "  nltk_tagged = nltk.pos_tag(nltk.word_tokenize(sentence))    \n",
        "  tagged = map(lambda x: (x[0], nltk_to_wordnet_tag(x[1])), nltk_tagged)\n",
        "\n",
        "  words = []\n",
        "  for word, tag in tagged:\n",
        "    if tag is None:                        \n",
        "      words.append(word)\n",
        "    else:\n",
        "      words.append(lemmatizer.lemmatize(word, tag))\n",
        "\n",
        "  return \" \".join(words)"
      ],
      "execution_count": null,
      "outputs": []
    },
    {
      "cell_type": "markdown",
      "metadata": {
        "id": "NQOqTSHnAJ_L"
      },
      "source": [
        "Nun die Lemmatisierung:"
      ]
    },
    {
      "cell_type": "code",
      "metadata": {
        "id": "klTWefNTAJ_M"
      },
      "source": [
        "count = 0\n",
        "tmp = liste\n",
        "liste = []\n",
        "for element in tmp:\n",
        "    review = tmp[count]\n",
        "    liste.append(lemmatize_sentence(review))\n",
        "    count+=1"
      ],
      "execution_count": null,
      "outputs": []
    },
    {
      "cell_type": "markdown",
      "metadata": {
        "id": "g2LqdfRbAJ_O"
      },
      "source": [
        "So sehen die Reviews jetzt aus:"
      ]
    },
    {
      "cell_type": "code",
      "metadata": {
        "id": "S4i6dPbpAJ_O",
        "outputId": "be09ca5a-7061-4f37-8204-f61d62aeb719"
      },
      "source": [
        "print(liste[0])"
      ],
      "execution_count": null,
      "outputs": [
        {
          "output_type": "stream",
          "text": [
            "one the other reviewer have mention that after watch just episode you hook they be right this exactly what happen with the first thing that strike about be its brutality and unflinching scene violence which set right from the word trust this not show for the faint hearted timid this show pull punch with regard drug sex violence its hardcore the classic use the word call that the nickname give the oswald maximum security state penitentary focus mainly emerald city experimental section the prison where all the cell have glass front and face inwards privacy not high the agenda city home many aryan muslim gangstas latinos christian italian irish and more scuffle death stare dodgy dealing and shady agreement be never far away would say the main appeal the show due the fact that go where other show wouldn dare forget pretty picture paint for mainstream audience forget charm forget romance doesn mess around the first episode ever saw struck nasty be surreal couldn say be ready for but watch more developed taste for and get accustom the high level graphic violence not just violence but injustice crook guard who sell out for nickel inmate who kill order and get away with well mannered middle class inmate be turn into prison bitch due their lack street skill prison experience watch you may become comfortable with what uncomfortable view thats you can get touch with your darker side\n"
          ],
          "name": "stdout"
        }
      ]
    },
    {
      "cell_type": "markdown",
      "metadata": {
        "id": "ZFQraBREAJ_Q"
      },
      "source": [
        "Da wir durch das Lemmatisieren jetzt wieder Wörter mit weniger als drei Buchstaben in den Reviews haben entfernen wir diese. <br>Außerdem entferne wir jetzt auch noch die Stopwords. Diese entfernen wir deshalb,da wir annehmen das diese keinen Mehrwert liefern."
      ]
    },
    {
      "cell_type": "code",
      "metadata": {
        "id": "ZGGmcX8aAJ_R"
      },
      "source": [
        "count = 0\n",
        "liste_without_stopwords = []\n",
        "for element in liste:\n",
        "    liste_without_stopwords.append(liste[count])\n",
        "    liste_without_stopwords[count] = preprocess_string(liste[count], True)\n",
        "    count += 1"
      ],
      "execution_count": null,
      "outputs": []
    },
    {
      "cell_type": "markdown",
      "metadata": {
        "id": "386se2NbAJ_U"
      },
      "source": [
        "Fast fertig mit dem Preprocessing! Nun teilen wir die Daten noch in Reviews(X-Achse) und Tags(Y-Achse) auf."
      ]
    },
    {
      "cell_type": "code",
      "metadata": {
        "id": "TC9TpJ2vAJ_U"
      },
      "source": [
        "X_all = np.array(liste_without_stopwords)\n",
        "Y_all = np.array(data['tag'])"
      ],
      "execution_count": null,
      "outputs": []
    },
    {
      "cell_type": "markdown",
      "metadata": {
        "id": "1zQGoeV0AJ_X"
      },
      "source": [
        "Natürlich brauchen wir neben Trainingsdaten, auch Testdaten um den Klassifikator zu validieren!<br> Deshalb importieren aus Sklearn den train_test_split."
      ]
    },
    {
      "cell_type": "code",
      "metadata": {
        "id": "9PsdR8BDAJ_X"
      },
      "source": [
        "from sklearn.model_selection import train_test_split"
      ],
      "execution_count": null,
      "outputs": []
    },
    {
      "cell_type": "markdown",
      "metadata": {
        "id": "jtu6Dx1IAJ_Z"
      },
      "source": [
        "Nun teilen wir unsere Daten nach einem 90/10 Percentag Split. Dabei heben wir uns 10% der Daten zum Testen auf."
      ]
    },
    {
      "cell_type": "code",
      "metadata": {
        "id": "b8RW3A63AJ_a"
      },
      "source": [
        "X_train, X_test, Y_train, Y_test = train_test_split(X_all, Y_all, test_size=0.1, random_state=42)"
      ],
      "execution_count": null,
      "outputs": []
    },
    {
      "cell_type": "markdown",
      "metadata": {
        "id": "Xc6MA306AJ_c"
      },
      "source": [
        "Da unsere Daten noch in Textform vorliegen, brauchen wir einen Vectorizer um die Reviews als Vektoren dar zu stellen. <br>Dazu verwenden wir den Tfidf Vectorizer aus Sklearn."
      ]
    },
    {
      "cell_type": "code",
      "metadata": {
        "id": "8SiXdaVkAJ_d"
      },
      "source": [
        "from sklearn.feature_extraction.text import TfidfVectorizer"
      ],
      "execution_count": null,
      "outputs": []
    },
    {
      "cell_type": "markdown",
      "metadata": {
        "id": "zrNHVCzVAJ_g"
      },
      "source": [
        "Der TfidfVectorizer berechnet auch die Tfidf Weights, dabei hat betrachtet er die Reviews als Uni-gramme.\n",
        "Wir speichern die vectorisierten Dokumente als Train- bzw. Testfeatures."
      ]
    },
    {
      "cell_type": "code",
      "metadata": {
        "id": "h4Dq9e17AJ_g"
      },
      "source": [
        "vectorizer = TfidfVectorizer()\n",
        "train_features = vectorizer.fit_transform(X_train.ravel())\n",
        "test_features = vectorizer.transform(X_test.ravel())"
      ],
      "execution_count": null,
      "outputs": []
    },
    {
      "cell_type": "markdown",
      "metadata": {
        "id": "Bm_v1WpHAJ_i"
      },
      "source": [
        "Nun geht es an den Klassifikator. Hier verwenden wir den Multinomialen Naive Bayes von Sklearn. Wir verwenden Multinomialen Naive Bayes, da dieser besonders gut für die Klassifizierung mit diskreten Merkmalen geeignet ist."
      ]
    },
    {
      "cell_type": "code",
      "metadata": {
        "id": "328FyVY3AJ_j"
      },
      "source": [
        "from sklearn.naive_bayes import MultinomialNB"
      ],
      "execution_count": null,
      "outputs": []
    },
    {
      "cell_type": "markdown",
      "metadata": {
        "id": "RNWvkzSqAJ_l"
      },
      "source": [
        "Jetzt fitten wir den Klassifikator mit den Trainingsdaten."
      ]
    },
    {
      "cell_type": "code",
      "metadata": {
        "id": "Sv_dVpXwAJ_l",
        "outputId": "b56c7d3d-aab5-4976-a833-68cbcb26dc83"
      },
      "source": [
        "classifier = MultinomialNB()\n",
        "classifier.fit(train_features, Y_train.astype('str'))"
      ],
      "execution_count": null,
      "outputs": [
        {
          "output_type": "execute_result",
          "data": {
            "text/plain": [
              "MultinomialNB(alpha=1.0, class_prior=None, fit_prior=True)"
            ]
          },
          "metadata": {
            "tags": []
          },
          "execution_count": 69
        }
      ]
    },
    {
      "cell_type": "markdown",
      "metadata": {
        "id": "ZqnLOdVKAJ_o"
      },
      "source": [
        "Selbstverständlich wollen wir noch wissen wie gut unser Klassifikator ist! "
      ]
    },
    {
      "cell_type": "code",
      "metadata": {
        "id": "cpnYEpUyAJ_p"
      },
      "source": [
        "from sklearn.metrics import accuracy_score"
      ],
      "execution_count": null,
      "outputs": []
    },
    {
      "cell_type": "markdown",
      "metadata": {
        "id": "Kf_tof_lAJ_t"
      },
      "source": [
        "Dazu lassen wir uns die Accuracy der Testdaten ausgeben:"
      ]
    },
    {
      "cell_type": "code",
      "metadata": {
        "id": "Gntd9wbuAJ_t",
        "outputId": "0830d19f-3d07-4aa7-e7ac-2cb08e9d7d43"
      },
      "source": [
        "accuracy_test = accuracy_score(Y_test.astype('str'), classifier.predict(test_features), normalize = True) * float(100)\n",
        "\n",
        "print(\"Die Accuracy der Testvorhersage in % beträgt:\", accuracy_test)"
      ],
      "execution_count": null,
      "outputs": [
        {
          "output_type": "stream",
          "text": [
            "Die Accuracy der Testvorhersage in % beträgt: 86.56\n"
          ],
          "name": "stdout"
        }
      ]
    },
    {
      "cell_type": "markdown",
      "metadata": {
        "id": "s9bkSmxPAJ_x"
      },
      "source": [
        "Das ist doch schon gar nicht mal so schlecht! Doch unser vectorizer und classifier haben doch noch Parameter die optimiert werden können!\n",
        "<br>Versuchen wir diese doch noch zu verwenden. Das machen wir aus der Annahme heraus, das davon aus zu gehen ist, dass Wörter einzeln betrachtet weniger Information liefert, als diese als N-Gramme zu betrachten.\n",
        "\n",
        "<br>Zunächst einmal verwenden wir nun ein N-gram anstatt einem Unigram, in unserem vectorizer.\n",
        "<br>Die N-gram range geht von Uni-gram bis 4-gram, dieser Wert wurde iterativ mittels Trial and Error bestimmt."
      ]
    },
    {
      "cell_type": "code",
      "metadata": {
        "id": "eZXaR6zUAJ_x"
      },
      "source": [
        "vectorizer = TfidfVectorizer(ngram_range=(1,4))\n",
        "train_features = vectorizer.fit_transform(X_train.ravel())\n",
        "test_features = vectorizer.transform(X_test.ravel())"
      ],
      "execution_count": null,
      "outputs": []
    },
    {
      "cell_type": "markdown",
      "metadata": {
        "id": "Gvg9nU-cAJ_z"
      },
      "source": [
        "Für den Alpha Paramater, welcher den additiven smoothing Parameter repräsentiert, verwenden wir 0.015. Der Wert wurde ebenfalls mittels \n",
        "Trial and Error iterativ bestimmt."
      ]
    },
    {
      "cell_type": "code",
      "metadata": {
        "id": "anH_SlJHAJ_0",
        "outputId": "51c0ae7e-4039-4510-a197-8903db3952da"
      },
      "source": [
        "classifier = MultinomialNB(alpha = 0.015)\n",
        "classifier.fit(train_features, Y_train.astype('str'))"
      ],
      "execution_count": null,
      "outputs": [
        {
          "output_type": "execute_result",
          "data": {
            "text/plain": [
              "MultinomialNB(alpha=0.015, class_prior=None, fit_prior=True)"
            ]
          },
          "metadata": {
            "tags": []
          },
          "execution_count": 75
        }
      ]
    },
    {
      "cell_type": "markdown",
      "metadata": {
        "id": "R_hgC7VwAJ_3"
      },
      "source": [
        "So und jetzt noch einmal die neue Accuracy bestimmen:"
      ]
    },
    {
      "cell_type": "code",
      "metadata": {
        "id": "uqs9DRmHAJ_3",
        "outputId": "f77329ab-39dc-4dc5-a603-b3bbf9ca9f8c"
      },
      "source": [
        "accuracy_test = accuracy_score(Y_test.astype('str'), classifier.predict(test_features), normalize = True) * float(100)\n",
        "\n",
        "print(\"Die Accuracy der Testvorhersage in % beträgt:\", accuracy_test)"
      ],
      "execution_count": null,
      "outputs": [
        {
          "output_type": "stream",
          "text": [
            "Die Accuracy der Testvorhersage in % beträgt: 89.36\n"
          ],
          "name": "stdout"
        }
      ]
    },
    {
      "cell_type": "markdown",
      "metadata": {
        "id": "b8r7o-1QAJ_6"
      },
      "source": [
        "Da ging ja doch noch einiges!\n",
        "\n",
        "<br>\n",
        "<br>Doch nun könnte man die Annahme treffen, dass durch die N-Gramme die entfernung der Stopwords gar nicht so hilfreich war! Es kann ja sein, dass dass die Stopwords wichtige bestandteile des N-Gramms sind. Das gilt es zu prüfen.<br> Deshalb Klassifizieren wir erneut, verwenden aber die Daten denen die Stopwords nicht entfernt wurden. Mal sehen ob es noch genauer wird."
      ]
    },
    {
      "cell_type": "code",
      "metadata": {
        "id": "MPki9sC8AJ_7",
        "outputId": "442a9c5e-cd7e-4d0d-e182-1163efe75c9e"
      },
      "source": [
        "X_all = np.array(liste)\n",
        "X_train, X_test, Y_train, Y_test = train_test_split(X_all, Y_all, test_size=0.1, random_state=42)\n",
        "vectorizer = TfidfVectorizer(ngram_range=(1,4))\n",
        "train_features = vectorizer.fit_transform(X_train.ravel())\n",
        "test_features = vectorizer.transform(X_test.ravel())\n",
        "classifier = MultinomialNB(alpha = 0.0157)\n",
        "classifier.fit(train_features, Y_train.astype('str'))\n",
        "accuracy_test = accuracy_score(Y_test.astype('str'), classifier.predict(test_features), normalize = True) * float(100)\n",
        "print(\"Die Accuracy der Testvorhersage in % beträgt:\", accuracy_test)"
      ],
      "execution_count": null,
      "outputs": [
        {
          "output_type": "stream",
          "text": [
            "Die Accuracy der Testvorhersage in % beträgt: 90.62\n"
          ],
          "name": "stdout"
        }
      ]
    },
    {
      "cell_type": "markdown",
      "metadata": {
        "id": "HvxrhMWyAJ__"
      },
      "source": [
        "Wie vermutet ist die Accuracy erneut gestiegen! Nun wollen wir auch noch die Precision, Recall und den F1 Score des Klassifikator bestimmen.\n",
        "<br>Dazu erstellen wir eine Confusion Matrix an der wir die \"True Positives\" \"False Positives\" \"True Negatives\" \"False Negatives\" ablesen können."
      ]
    },
    {
      "cell_type": "code",
      "metadata": {
        "id": "0-Hs8ltpAJ__",
        "outputId": "2087d224-7f11-49d9-c324-a688438cd925"
      },
      "source": [
        "from sklearn.metrics import confusion_matrix\n",
        "import seaborn as sns; sns.set()\n",
        "\n",
        "\n",
        "cm_test = confusion_matrix(Y_test,classifier.predict(test_features))\n",
        "sns.heatmap(cm_test,annot=True,fmt='d',linewidths=.5, cmap=\"YlGnBu\")"
      ],
      "execution_count": null,
      "outputs": [
        {
          "output_type": "execute_result",
          "data": {
            "text/plain": [
              "<matplotlib.axes._subplots.AxesSubplot at 0x7fe340895c50>"
            ]
          },
          "metadata": {
            "tags": []
          },
          "execution_count": 37
        }
      ]
    },
    {
      "cell_type": "markdown",
      "metadata": {
        "id": "YC1qsUTAAKAD"
      },
      "source": [
        "Auch noch die Gesamt Negativen/Positiven bestimmen:"
      ]
    },
    {
      "cell_type": "code",
      "metadata": {
        "id": "-LNP_DjzAKAE",
        "outputId": "b4febb24-6400-477c-e28c-945e72911d58"
      },
      "source": [
        "tn=2252;fn=229;fp=240;tp=2279;\n",
        "n=tn+fp\n",
        "p=fn+tp\n",
        "print(\"total negatives %d\"%(n))\n",
        "print(\"total positive %d\"%(p))"
      ],
      "execution_count": null,
      "outputs": [
        {
          "output_type": "stream",
          "text": [
            "total negatives 2492\n",
            "total positive 2508\n"
          ],
          "name": "stdout"
        }
      ]
    },
    {
      "cell_type": "markdown",
      "metadata": {
        "id": "ehymrn2cAKAH"
      },
      "source": [
        "Jetzt berechnen wir die Precison, den Recall sowie den F1-Score:"
      ]
    },
    {
      "cell_type": "code",
      "metadata": {
        "id": "G0dkBEPnAKAH",
        "outputId": "73e2d0d2-bfa8-4559-f88e-ddd5a18d8b44"
      },
      "source": [
        "precision=tp/(tp+fp)\n",
        "print(\"Precision\",precision)\n",
        "recall = tp/p\n",
        "print(\"Recall\",recall)\n",
        "f1 = 2*((precision*recall)/(precision+recall))\n",
        "print(\"f1-score\",f1)"
      ],
      "execution_count": null,
      "outputs": [
        {
          "output_type": "stream",
          "text": [
            "Precision 0.9047240968638348\n",
            "Recall 0.9086921850079744\n",
            "f1-score 0.906703799482793\n"
          ],
          "name": "stdout"
        }
      ]
    },
    {
      "cell_type": "markdown",
      "metadata": {
        "id": "QStSog2JAKAK"
      },
      "source": [
        "Schauen wir noch was die häufigsten Negativen/Positiven Wörter sind, und mit welcher bedingten Wahrscheinlichkeit diese Auftreten."
      ]
    },
    {
      "cell_type": "code",
      "metadata": {
        "id": "s-0ips9TAKAL"
      },
      "source": [
        "count=0\n",
        "all_positive_words=[] \n",
        "all_negative_words=[]\n",
        "for sent in X_all:\n",
        "    tmp = X_all[count].split()\n",
        "    count2 = 0\n",
        "    for w in tmp:\n",
        "        if Y_all[count] == \"positive\": \n",
        "            all_positive_words.append(tmp[count2]) \n",
        "        if Y_all[count] == \"negative\":\n",
        "            all_negative_words.append(tmp[count2])\n",
        "        count2+=1\n",
        "    count+=1"
      ],
      "execution_count": null,
      "outputs": []
    },
    {
      "cell_type": "code",
      "metadata": {
        "id": "T_0c6SkqAKAO",
        "outputId": "b190b32a-02c1-4930-bf2b-7daf4b28fc69"
      },
      "source": [
        "test = pd.DataFrame(all_positive_words)\n",
        "test.head()"
      ],
      "execution_count": null,
      "outputs": [
        {
          "output_type": "execute_result",
          "data": {
            "text/html": [
              "<div>\n",
              "<style scoped>\n",
              "    .dataframe tbody tr th:only-of-type {\n",
              "        vertical-align: middle;\n",
              "    }\n",
              "\n",
              "    .dataframe tbody tr th {\n",
              "        vertical-align: top;\n",
              "    }\n",
              "\n",
              "    .dataframe thead th {\n",
              "        text-align: right;\n",
              "    }\n",
              "</style>\n",
              "<table border=\"1\" class=\"dataframe\">\n",
              "  <thead>\n",
              "    <tr style=\"text-align: right;\">\n",
              "      <th></th>\n",
              "      <th>0</th>\n",
              "    </tr>\n",
              "  </thead>\n",
              "  <tbody>\n",
              "    <tr>\n",
              "      <th>0</th>\n",
              "      <td>one</td>\n",
              "    </tr>\n",
              "    <tr>\n",
              "      <th>1</th>\n",
              "      <td>the</td>\n",
              "    </tr>\n",
              "    <tr>\n",
              "      <th>2</th>\n",
              "      <td>other</td>\n",
              "    </tr>\n",
              "    <tr>\n",
              "      <th>3</th>\n",
              "      <td>reviewer</td>\n",
              "    </tr>\n",
              "    <tr>\n",
              "      <th>4</th>\n",
              "      <td>have</td>\n",
              "    </tr>\n",
              "  </tbody>\n",
              "</table>\n",
              "</div>"
            ],
            "text/plain": [
              "          0\n",
              "0       one\n",
              "1       the\n",
              "2     other\n",
              "3  reviewer\n",
              "4      have"
            ]
          },
          "metadata": {
            "tags": []
          },
          "execution_count": 41
        }
      ]
    },
    {
      "cell_type": "markdown",
      "metadata": {
        "id": "qYkbRcAGAKAR"
      },
      "source": [
        "Wir ziehen jetzt ein Random Sample aus den Wörtern der Trainingsdaten:"
      ]
    },
    {
      "cell_type": "code",
      "metadata": {
        "id": "85CKhSWSAKAS"
      },
      "source": [
        "import random"
      ],
      "execution_count": null,
      "outputs": []
    },
    {
      "cell_type": "code",
      "metadata": {
        "id": "j4jXcO0yAKAV"
      },
      "source": [
        "all_positive_words = random.sample(all_positive_words, 10000)\n",
        "all_negative_words = random.sample(all_negative_words, 10000)"
      ],
      "execution_count": null,
      "outputs": []
    },
    {
      "cell_type": "markdown",
      "metadata": {
        "id": "q9jnxZYOAKAY"
      },
      "source": [
        "Wir zählen auch wie oft jedes Wort in dem Sample vorkommt:"
      ]
    },
    {
      "cell_type": "code",
      "metadata": {
        "id": "FLBvtFLZAKAZ"
      },
      "source": [
        "freq_negative_words = {x:all_negative_words.count(x) for x in all_negative_words}"
      ],
      "execution_count": null,
      "outputs": []
    },
    {
      "cell_type": "code",
      "metadata": {
        "id": "uFVH5BOYAKAe"
      },
      "source": [
        "freq_positive_words = {x:all_positive_words.count(x) for x in all_positive_words}"
      ],
      "execution_count": null,
      "outputs": []
    },
    {
      "cell_type": "markdown",
      "metadata": {
        "id": "7aOADq9RAKAh"
      },
      "source": [
        "Nun berechnen wir die Wahrscheinlichkeiten der Wörter aus den positiven Reviews:"
      ]
    },
    {
      "cell_type": "code",
      "metadata": {
        "id": "3ynLTtpOAKAi"
      },
      "source": [
        "tmp=[]\n",
        "for key in freq_positive_words:\n",
        "    prob = freq_positive_words[key]/len(all_positive_words)\n",
        "    tmp.append([key,prob])\n",
        "table_positive = pd.DataFrame(tmp,columns=['positive_words','probability'])"
      ],
      "execution_count": null,
      "outputs": []
    },
    {
      "cell_type": "code",
      "metadata": {
        "id": "474vPhyyAKAl"
      },
      "source": [
        "table_positive = table_positive.sort_values('probability', axis=0, ascending=False, inplace=False, kind='quicksort', na_position='last')"
      ],
      "execution_count": null,
      "outputs": []
    },
    {
      "cell_type": "markdown",
      "metadata": {
        "id": "-zmrXfFdAKAo"
      },
      "source": [
        "Jetzt lassen wir uns noch die 15 Wahrscheinlichsten Wörter ausgeben:"
      ]
    },
    {
      "cell_type": "code",
      "metadata": {
        "id": "i-cUbXmqAKAo",
        "outputId": "d89b6b94-b802-4a62-dc03-cc3def967dfc"
      },
      "source": [
        "table_positive.head(15)"
      ],
      "execution_count": null,
      "outputs": [
        {
          "output_type": "execute_result",
          "data": {
            "text/html": [
              "<div>\n",
              "<style scoped>\n",
              "    .dataframe tbody tr th:only-of-type {\n",
              "        vertical-align: middle;\n",
              "    }\n",
              "\n",
              "    .dataframe tbody tr th {\n",
              "        vertical-align: top;\n",
              "    }\n",
              "\n",
              "    .dataframe thead th {\n",
              "        text-align: right;\n",
              "    }\n",
              "</style>\n",
              "<table border=\"1\" class=\"dataframe\">\n",
              "  <thead>\n",
              "    <tr style=\"text-align: right;\">\n",
              "      <th></th>\n",
              "      <th>positive_words</th>\n",
              "      <th>probability</th>\n",
              "    </tr>\n",
              "  </thead>\n",
              "  <tbody>\n",
              "    <tr>\n",
              "      <th>12</th>\n",
              "      <td>the</td>\n",
              "      <td>0.0779</td>\n",
              "    </tr>\n",
              "    <tr>\n",
              "      <th>20</th>\n",
              "      <td>and</td>\n",
              "      <td>0.0399</td>\n",
              "    </tr>\n",
              "    <tr>\n",
              "      <th>15</th>\n",
              "      <td>be</td>\n",
              "      <td>0.0227</td>\n",
              "    </tr>\n",
              "    <tr>\n",
              "      <th>52</th>\n",
              "      <td>that</td>\n",
              "      <td>0.0159</td>\n",
              "    </tr>\n",
              "    <tr>\n",
              "      <th>59</th>\n",
              "      <td>this</td>\n",
              "      <td>0.0150</td>\n",
              "    </tr>\n",
              "    <tr>\n",
              "      <th>104</th>\n",
              "      <td>have</td>\n",
              "      <td>0.0129</td>\n",
              "    </tr>\n",
              "    <tr>\n",
              "      <th>97</th>\n",
              "      <td>film</td>\n",
              "      <td>0.0124</td>\n",
              "    </tr>\n",
              "    <tr>\n",
              "      <th>56</th>\n",
              "      <td>for</td>\n",
              "      <td>0.0116</td>\n",
              "    </tr>\n",
              "    <tr>\n",
              "      <th>62</th>\n",
              "      <td>with</td>\n",
              "      <td>0.0106</td>\n",
              "    </tr>\n",
              "    <tr>\n",
              "      <th>65</th>\n",
              "      <td>you</td>\n",
              "      <td>0.0096</td>\n",
              "    </tr>\n",
              "    <tr>\n",
              "      <th>39</th>\n",
              "      <td>movie</td>\n",
              "      <td>0.0093</td>\n",
              "    </tr>\n",
              "    <tr>\n",
              "      <th>143</th>\n",
              "      <td>his</td>\n",
              "      <td>0.0084</td>\n",
              "    </tr>\n",
              "    <tr>\n",
              "      <th>79</th>\n",
              "      <td>but</td>\n",
              "      <td>0.0081</td>\n",
              "    </tr>\n",
              "    <tr>\n",
              "      <th>41</th>\n",
              "      <td>one</td>\n",
              "      <td>0.0064</td>\n",
              "    </tr>\n",
              "    <tr>\n",
              "      <th>88</th>\n",
              "      <td>all</td>\n",
              "      <td>0.0049</td>\n",
              "    </tr>\n",
              "  </tbody>\n",
              "</table>\n",
              "</div>"
            ],
            "text/plain": [
              "    positive_words  probability\n",
              "12             the       0.0779\n",
              "20             and       0.0399\n",
              "15              be       0.0227\n",
              "52            that       0.0159\n",
              "59            this       0.0150\n",
              "104           have       0.0129\n",
              "97            film       0.0124\n",
              "56             for       0.0116\n",
              "62            with       0.0106\n",
              "65             you       0.0096\n",
              "39           movie       0.0093\n",
              "143            his       0.0084\n",
              "79             but       0.0081\n",
              "41             one       0.0064\n",
              "88             all       0.0049"
            ]
          },
          "metadata": {
            "tags": []
          },
          "execution_count": 48
        }
      ]
    },
    {
      "cell_type": "markdown",
      "metadata": {
        "id": "PZh-qeloAKAt"
      },
      "source": [
        "Das selbe auch noch mit den Wörtern aus den negativen Reviews:"
      ]
    },
    {
      "cell_type": "code",
      "metadata": {
        "id": "zbtf8K7rAKAt"
      },
      "source": [
        "tmp=[]\n",
        "for key in freq_negative_words:\n",
        "    prob = freq_negative_words[key]/len(all_negative_words)\n",
        "    tmp.append([key,prob])\n",
        "table_negative = pd.DataFrame(tmp,columns=['negative_words','probability'])"
      ],
      "execution_count": null,
      "outputs": []
    },
    {
      "cell_type": "code",
      "metadata": {
        "id": "Er1uXMUZAKAy"
      },
      "source": [
        "table_negative = table_negative.sort_values('probability', axis=0, ascending=False, inplace=False, kind='quicksort', na_position='last')"
      ],
      "execution_count": null,
      "outputs": []
    },
    {
      "cell_type": "code",
      "metadata": {
        "id": "Oqb-_5ddAKA1",
        "outputId": "8d9c3949-b271-4de5-9a4b-8fd12d26b0e6"
      },
      "source": [
        "table_negative.head(15)"
      ],
      "execution_count": null,
      "outputs": [
        {
          "output_type": "execute_result",
          "data": {
            "text/html": [
              "<div>\n",
              "<style scoped>\n",
              "    .dataframe tbody tr th:only-of-type {\n",
              "        vertical-align: middle;\n",
              "    }\n",
              "\n",
              "    .dataframe tbody tr th {\n",
              "        vertical-align: top;\n",
              "    }\n",
              "\n",
              "    .dataframe thead th {\n",
              "        text-align: right;\n",
              "    }\n",
              "</style>\n",
              "<table border=\"1\" class=\"dataframe\">\n",
              "  <thead>\n",
              "    <tr style=\"text-align: right;\">\n",
              "      <th></th>\n",
              "      <th>negative_words</th>\n",
              "      <th>probability</th>\n",
              "    </tr>\n",
              "  </thead>\n",
              "  <tbody>\n",
              "    <tr>\n",
              "      <th>3</th>\n",
              "      <td>the</td>\n",
              "      <td>0.0725</td>\n",
              "    </tr>\n",
              "    <tr>\n",
              "      <th>40</th>\n",
              "      <td>and</td>\n",
              "      <td>0.0335</td>\n",
              "    </tr>\n",
              "    <tr>\n",
              "      <th>52</th>\n",
              "      <td>be</td>\n",
              "      <td>0.0261</td>\n",
              "    </tr>\n",
              "    <tr>\n",
              "      <th>67</th>\n",
              "      <td>this</td>\n",
              "      <td>0.0188</td>\n",
              "    </tr>\n",
              "    <tr>\n",
              "      <th>81</th>\n",
              "      <td>that</td>\n",
              "      <td>0.0153</td>\n",
              "    </tr>\n",
              "    <tr>\n",
              "      <th>12</th>\n",
              "      <td>have</td>\n",
              "      <td>0.0149</td>\n",
              "    </tr>\n",
              "    <tr>\n",
              "      <th>1</th>\n",
              "      <td>movie</td>\n",
              "      <td>0.0149</td>\n",
              "    </tr>\n",
              "    <tr>\n",
              "      <th>25</th>\n",
              "      <td>for</td>\n",
              "      <td>0.0101</td>\n",
              "    </tr>\n",
              "    <tr>\n",
              "      <th>62</th>\n",
              "      <td>film</td>\n",
              "      <td>0.0088</td>\n",
              "    </tr>\n",
              "    <tr>\n",
              "      <th>100</th>\n",
              "      <td>but</td>\n",
              "      <td>0.0086</td>\n",
              "    </tr>\n",
              "    <tr>\n",
              "      <th>44</th>\n",
              "      <td>with</td>\n",
              "      <td>0.0081</td>\n",
              "    </tr>\n",
              "    <tr>\n",
              "      <th>105</th>\n",
              "      <td>you</td>\n",
              "      <td>0.0079</td>\n",
              "    </tr>\n",
              "    <tr>\n",
              "      <th>2</th>\n",
              "      <td>one</td>\n",
              "      <td>0.0068</td>\n",
              "    </tr>\n",
              "    <tr>\n",
              "      <th>83</th>\n",
              "      <td>not</td>\n",
              "      <td>0.0068</td>\n",
              "    </tr>\n",
              "    <tr>\n",
              "      <th>84</th>\n",
              "      <td>they</td>\n",
              "      <td>0.0065</td>\n",
              "    </tr>\n",
              "  </tbody>\n",
              "</table>\n",
              "</div>"
            ],
            "text/plain": [
              "    negative_words  probability\n",
              "3              the       0.0725\n",
              "40             and       0.0335\n",
              "52              be       0.0261\n",
              "67            this       0.0188\n",
              "81            that       0.0153\n",
              "12            have       0.0149\n",
              "1            movie       0.0149\n",
              "25             for       0.0101\n",
              "62            film       0.0088\n",
              "100            but       0.0086\n",
              "44            with       0.0081\n",
              "105            you       0.0079\n",
              "2              one       0.0068\n",
              "83             not       0.0068\n",
              "84            they       0.0065"
            ]
          },
          "metadata": {
            "tags": []
          },
          "execution_count": 51
        }
      ]
    },
    {
      "cell_type": "markdown",
      "metadata": {
        "id": "ckMjgFLxAKA4"
      },
      "source": [
        "Da sind ja einige Stopwords unter den Top 15 dabei... <br> Machen wir das neu, verwenden aber die Reviews denen die Stopwords entfernt wurden."
      ]
    },
    {
      "cell_type": "code",
      "metadata": {
        "id": "JU4uOQ80AKA5",
        "outputId": "36881e73-d9f0-411c-c561-9a31e736baa1"
      },
      "source": [
        "X_all = np.array(liste_without_stopwords)#ohne stopwords\n",
        "count=0\n",
        "all_positive_words=[] \n",
        "all_negative_words=[]\n",
        "for sent in X_all:\n",
        "    tmp = X_all[count].split()\n",
        "    count2 = 0\n",
        "    for w in tmp:\n",
        "        if Y_all[count] == \"positive\": \n",
        "            all_positive_words.append(tmp[count2]) \n",
        "        if Y_all[count] == \"negative\":\n",
        "            all_negative_words.append(tmp[count2])\n",
        "        count2+=1\n",
        "    count+=1\n",
        "all_positive_words = random.sample(all_positive_words, 10000)\n",
        "all_negative_words = random.sample(all_negative_words, 10000)\n",
        "freq_negative_words = {x:all_negative_words.count(x) for x in all_negative_words}\n",
        "freq_positive_words = {x:all_positive_words.count(x) for x in all_positive_words}\n",
        "tmp=[]\n",
        "for key in freq_positive_words:\n",
        "    prob = freq_positive_words[key]/len(all_positive_words)\n",
        "    tmp.append([key,prob])\n",
        "table_positive = pd.DataFrame(tmp,columns=['positive_words','probability'])\n",
        "table_positive = table_positive.sort_values('probability', axis=0, ascending=False, inplace=False, kind='quicksort', na_position='last')\n",
        "table_positive.head(15)"
      ],
      "execution_count": null,
      "outputs": [
        {
          "output_type": "execute_result",
          "data": {
            "text/html": [
              "<div>\n",
              "<style scoped>\n",
              "    .dataframe tbody tr th:only-of-type {\n",
              "        vertical-align: middle;\n",
              "    }\n",
              "\n",
              "    .dataframe tbody tr th {\n",
              "        vertical-align: top;\n",
              "    }\n",
              "\n",
              "    .dataframe thead th {\n",
              "        text-align: right;\n",
              "    }\n",
              "</style>\n",
              "<table border=\"1\" class=\"dataframe\">\n",
              "  <thead>\n",
              "    <tr style=\"text-align: right;\">\n",
              "      <th></th>\n",
              "      <th>positive_words</th>\n",
              "      <th>probability</th>\n",
              "    </tr>\n",
              "  </thead>\n",
              "  <tbody>\n",
              "    <tr>\n",
              "      <th>112</th>\n",
              "      <td>film</td>\n",
              "      <td>0.0151</td>\n",
              "    </tr>\n",
              "    <tr>\n",
              "      <th>64</th>\n",
              "      <td>movie</td>\n",
              "      <td>0.0128</td>\n",
              "    </tr>\n",
              "    <tr>\n",
              "      <th>191</th>\n",
              "      <td>one</td>\n",
              "      <td>0.0078</td>\n",
              "    </tr>\n",
              "    <tr>\n",
              "      <th>16</th>\n",
              "      <td>make</td>\n",
              "      <td>0.0078</td>\n",
              "    </tr>\n",
              "    <tr>\n",
              "      <th>31</th>\n",
              "      <td>see</td>\n",
              "      <td>0.0077</td>\n",
              "    </tr>\n",
              "    <tr>\n",
              "      <th>102</th>\n",
              "      <td>time</td>\n",
              "      <td>0.0061</td>\n",
              "    </tr>\n",
              "    <tr>\n",
              "      <th>39</th>\n",
              "      <td>good</td>\n",
              "      <td>0.0061</td>\n",
              "    </tr>\n",
              "    <tr>\n",
              "      <th>170</th>\n",
              "      <td>like</td>\n",
              "      <td>0.0061</td>\n",
              "    </tr>\n",
              "    <tr>\n",
              "      <th>82</th>\n",
              "      <td>well</td>\n",
              "      <td>0.0055</td>\n",
              "    </tr>\n",
              "    <tr>\n",
              "      <th>316</th>\n",
              "      <td>story</td>\n",
              "      <td>0.0050</td>\n",
              "    </tr>\n",
              "    <tr>\n",
              "      <th>283</th>\n",
              "      <td>great</td>\n",
              "      <td>0.0048</td>\n",
              "    </tr>\n",
              "    <tr>\n",
              "      <th>115</th>\n",
              "      <td>get</td>\n",
              "      <td>0.0048</td>\n",
              "    </tr>\n",
              "    <tr>\n",
              "      <th>455</th>\n",
              "      <td>show</td>\n",
              "      <td>0.0047</td>\n",
              "    </tr>\n",
              "    <tr>\n",
              "      <th>272</th>\n",
              "      <td>love</td>\n",
              "      <td>0.0044</td>\n",
              "    </tr>\n",
              "    <tr>\n",
              "      <th>535</th>\n",
              "      <td>character</td>\n",
              "      <td>0.0042</td>\n",
              "    </tr>\n",
              "  </tbody>\n",
              "</table>\n",
              "</div>"
            ],
            "text/plain": [
              "    positive_words  probability\n",
              "112           film       0.0151\n",
              "64           movie       0.0128\n",
              "191            one       0.0078\n",
              "16            make       0.0078\n",
              "31             see       0.0077\n",
              "102           time       0.0061\n",
              "39            good       0.0061\n",
              "170           like       0.0061\n",
              "82            well       0.0055\n",
              "316          story       0.0050\n",
              "283          great       0.0048\n",
              "115            get       0.0048\n",
              "455           show       0.0047\n",
              "272           love       0.0044\n",
              "535      character       0.0042"
            ]
          },
          "metadata": {
            "tags": []
          },
          "execution_count": 52
        }
      ]
    },
    {
      "cell_type": "code",
      "metadata": {
        "id": "TrCMT_tmAKA8",
        "outputId": "dd67eab3-8344-463d-ccf5-1f077f3bcc26"
      },
      "source": [
        "tmp=[]\n",
        "for key in freq_negative_words:\n",
        "    prob = freq_negative_words[key]/len(all_negative_words)\n",
        "    tmp.append([key,prob])\n",
        "table_negative = pd.DataFrame(tmp,columns=['negative_words','probability'])\n",
        "table_negative = table_negative.sort_values('probability', axis=0, ascending=False, inplace=False, kind='quicksort', na_position='last')\n",
        "table_negative.head(15)"
      ],
      "execution_count": null,
      "outputs": [
        {
          "output_type": "execute_result",
          "data": {
            "text/html": [
              "<div>\n",
              "<style scoped>\n",
              "    .dataframe tbody tr th:only-of-type {\n",
              "        vertical-align: middle;\n",
              "    }\n",
              "\n",
              "    .dataframe tbody tr th {\n",
              "        vertical-align: top;\n",
              "    }\n",
              "\n",
              "    .dataframe thead th {\n",
              "        text-align: right;\n",
              "    }\n",
              "</style>\n",
              "<table border=\"1\" class=\"dataframe\">\n",
              "  <thead>\n",
              "    <tr style=\"text-align: right;\">\n",
              "      <th></th>\n",
              "      <th>negative_words</th>\n",
              "      <th>probability</th>\n",
              "    </tr>\n",
              "  </thead>\n",
              "  <tbody>\n",
              "    <tr>\n",
              "      <th>174</th>\n",
              "      <td>movie</td>\n",
              "      <td>0.0216</td>\n",
              "    </tr>\n",
              "    <tr>\n",
              "      <th>124</th>\n",
              "      <td>film</td>\n",
              "      <td>0.0160</td>\n",
              "    </tr>\n",
              "    <tr>\n",
              "      <th>21</th>\n",
              "      <td>one</td>\n",
              "      <td>0.0109</td>\n",
              "    </tr>\n",
              "    <tr>\n",
              "      <th>147</th>\n",
              "      <td>like</td>\n",
              "      <td>0.0096</td>\n",
              "    </tr>\n",
              "    <tr>\n",
              "      <th>86</th>\n",
              "      <td>make</td>\n",
              "      <td>0.0079</td>\n",
              "    </tr>\n",
              "    <tr>\n",
              "      <th>4</th>\n",
              "      <td>bad</td>\n",
              "      <td>0.0069</td>\n",
              "    </tr>\n",
              "    <tr>\n",
              "      <th>258</th>\n",
              "      <td>get</td>\n",
              "      <td>0.0066</td>\n",
              "    </tr>\n",
              "    <tr>\n",
              "      <th>63</th>\n",
              "      <td>character</td>\n",
              "      <td>0.0062</td>\n",
              "    </tr>\n",
              "    <tr>\n",
              "      <th>25</th>\n",
              "      <td>see</td>\n",
              "      <td>0.0062</td>\n",
              "    </tr>\n",
              "    <tr>\n",
              "      <th>31</th>\n",
              "      <td>good</td>\n",
              "      <td>0.0058</td>\n",
              "    </tr>\n",
              "    <tr>\n",
              "      <th>311</th>\n",
              "      <td>even</td>\n",
              "      <td>0.0056</td>\n",
              "    </tr>\n",
              "    <tr>\n",
              "      <th>11</th>\n",
              "      <td>time</td>\n",
              "      <td>0.0055</td>\n",
              "    </tr>\n",
              "    <tr>\n",
              "      <th>89</th>\n",
              "      <td>would</td>\n",
              "      <td>0.0053</td>\n",
              "    </tr>\n",
              "    <tr>\n",
              "      <th>313</th>\n",
              "      <td>scene</td>\n",
              "      <td>0.0053</td>\n",
              "    </tr>\n",
              "    <tr>\n",
              "      <th>132</th>\n",
              "      <td>really</td>\n",
              "      <td>0.0053</td>\n",
              "    </tr>\n",
              "  </tbody>\n",
              "</table>\n",
              "</div>"
            ],
            "text/plain": [
              "    negative_words  probability\n",
              "174          movie       0.0216\n",
              "124           film       0.0160\n",
              "21             one       0.0109\n",
              "147           like       0.0096\n",
              "86            make       0.0079\n",
              "4              bad       0.0069\n",
              "258            get       0.0066\n",
              "63       character       0.0062\n",
              "25             see       0.0062\n",
              "31            good       0.0058\n",
              "311           even       0.0056\n",
              "11            time       0.0055\n",
              "89           would       0.0053\n",
              "313          scene       0.0053\n",
              "132         really       0.0053"
            ]
          },
          "metadata": {
            "tags": []
          },
          "execution_count": 53
        }
      ]
    },
    {
      "cell_type": "markdown",
      "metadata": {
        "id": "fZdOaX23AKA_"
      },
      "source": [
        "Die Wörter sind doch deutlich interessanter. \n",
        "<br>\n",
        "<br>Zu guter letzt plotten wir noch die Top Worter mit ihrer Häufigkeit."
      ]
    },
    {
      "cell_type": "code",
      "metadata": {
        "id": "QBnr8yVGAKBA"
      },
      "source": [
        "from operator import itemgetter"
      ],
      "execution_count": null,
      "outputs": []
    },
    {
      "cell_type": "code",
      "metadata": {
        "id": "-PLMxF05AKBC"
      },
      "source": [
        "negatives={}\n",
        "i=0\n",
        "for key, value in sorted(freq_negative_words.items(), key = itemgetter(1), reverse = True):\n",
        "    if(i>10):\n",
        "        break\n",
        "    negatives[key]=value\n",
        "    i+=1"
      ],
      "execution_count": null,
      "outputs": []
    },
    {
      "cell_type": "code",
      "metadata": {
        "id": "PxrzLAfAAKBG"
      },
      "source": [
        "positives={}\n",
        "i=0\n",
        "for key, value in sorted(freq_positive_words.items(), key = itemgetter(1), reverse = True):\n",
        "    if(i>10):\n",
        "        break\n",
        "    positives[key]=value\n",
        "    i+=1"
      ],
      "execution_count": null,
      "outputs": []
    },
    {
      "cell_type": "code",
      "metadata": {
        "id": "86HR4d6XAKBI"
      },
      "source": [
        "import matplotlib.pyplot as plt"
      ],
      "execution_count": null,
      "outputs": []
    },
    {
      "cell_type": "code",
      "metadata": {
        "id": "t2kfe9RNAKBK",
        "outputId": "1b54ea96-9496-4fbf-9b4c-55f205987763"
      },
      "source": [
        "plt.bar(range(len(negatives)), list(negatives.values()), align='center', color ='g')\n",
        "plt.xticks(range(len(negatives)), list(negatives.keys()))\n",
        "\n",
        "print(\"Barplot for most frequent words in negative reviews\")\n",
        "plt.show()"
      ],
      "execution_count": null,
      "outputs": [
        {
          "output_type": "stream",
          "text": [
            "Barplot for most frequent words in negative reviews\n"
          ],
          "name": "stdout"
        },
        {
          "output_type": "display_data",
          "data": {
            "image/png": "[encoded data removed]",
            "text/plain": [
              "<Figure size 432x288 with 1 Axes>"
            ]
          },
          "metadata": {
            "tags": [],
            "needs_background": "light"
          }
        }
      ]
    },
    {
      "cell_type": "code",
      "metadata": {
        "id": "QCxwdGgjAKBM",
        "outputId": "dc74c786-9aeb-40ab-bead-65c622b7ab90"
      },
      "source": [
        "plt.bar(range(len(positives)), list(positives.values()), align='center', color = 'r')\n",
        "plt.xticks(range(len(positives)), list(positives.keys()))\n",
        "\n",
        "print(\"Barplot for most frequent words in positive reviews\")\n",
        "plt.show()"
      ],
      "execution_count": null,
      "outputs": [
        {
          "output_type": "stream",
          "text": [
            "Barplot for most frequent words in positive reviews\n"
          ],
          "name": "stdout"
        },
        {
          "output_type": "display_data",
          "data": {
            "image/png": "[encoded data removed]",
            "text/plain": [
              "<Figure size 432x288 with 1 Axes>"
            ]
          },
          "metadata": {
            "tags": [],
            "needs_background": "light"
          }
        }
      ]
    },
    {
      "cell_type": "markdown",
      "metadata": {
        "id": "J_GomfUCAKBN"
      },
      "source": [
        "Interessanterweise sind die Häufigsten Wörter in den positiven als auch den negativen Reviews sehr ähnlich und dennoch hat die Klassifikation herausragend funktioniert. Dies ist jedoch aber auch der Grunde weshalb Tf-idf benutzt wurde, da dieses Problem so gelöst wird."
      ]
    },
    {
      "cell_type": "markdown",
      "metadata": {
        "id": "6ls1nLqbAKBN"
      },
      "source": [
        "Ok, vielleicht doch noch eine Visualisierung.. Schauen wir uns die Precision, Recall und F1 unserer drei Klassifikatoren an:"
      ]
    },
    {
      "cell_type": "code",
      "metadata": {
        "id": "rUZvOZkIAKBO"
      },
      "source": [
        "tn1=2252;fn1=229;fp1=240;tp1=2279;\n",
        "p1=fn1+tp1"
      ],
      "execution_count": null,
      "outputs": []
    },
    {
      "cell_type": "code",
      "metadata": {
        "id": "AGYurbQ0AKBP"
      },
      "source": [
        "tn2=2171;fn2=310;fp2=362;tp2=2157;\n",
        "p2=fn2+tp2"
      ],
      "execution_count": null,
      "outputs": []
    },
    {
      "cell_type": "code",
      "metadata": {
        "id": "pK8NYzyyAKBQ"
      },
      "source": [
        "tn3=2214;fn3=267;fp3=265;tp3=2254;\n",
        "p3=fn3+tp3"
      ],
      "execution_count": null,
      "outputs": []
    },
    {
      "cell_type": "code",
      "metadata": {
        "id": "zWOSRomrAKBS"
      },
      "source": [
        "precision1=tp1/(tp1+fp1)\n",
        "recall1 = tp1/p1\n",
        "f1_1 = 2*((precision1*recall1)/(precision1+recall1))"
      ],
      "execution_count": null,
      "outputs": []
    },
    {
      "cell_type": "code",
      "metadata": {
        "id": "Q0_05o6XAKBV"
      },
      "source": [
        "precision2=tp2/(tp2+fp2)\n",
        "recall2 = tp2/p2\n",
        "f1_2 = 2*((precision2*recall2)/(precision2+recall2))"
      ],
      "execution_count": null,
      "outputs": []
    },
    {
      "cell_type": "code",
      "metadata": {
        "id": "F6qRrybNAKBX"
      },
      "source": [
        "precision3=tp3/(tp3+fp3)\n",
        "recall3 = tp3/p3\n",
        "f1_3 = 2*((precision3*recall3)/(precision3+recall3))"
      ],
      "execution_count": null,
      "outputs": []
    },
    {
      "cell_type": "code",
      "metadata": {
        "id": "rcO0XEkxAKBY",
        "colab": {
          "base_uri": "https://localhost:8080/",
          "height": 304
        },
        "outputId": "f007480e-0595-4b91-c22c-f8f91b62b1c4"
      },
      "source": [
        "precision = [precision1, precision3, precision2]\n",
        "recall = [recall1, recall3, recall2]\n",
        "f1 = [f1_1, f1_3, f1_2]\n",
        "x = np.arange(3) \n",
        "width = 0.25 \n",
        "fig, ax = plt.subplots()\n",
        "ax.bar(x - width, precision, width, label='Precision')\n",
        "ax.bar(x , recall, width, label='Recall')\n",
        "ax.bar(x + width, f1, width, label='F1')\n",
        "ax.legend()\n",
        "plt.xticks(x, ('Klassifikator \\n mit N-Grammen \\n ohne Stopword \\n removal','Klassifikator \\n mit N-Grammen \\n mit Stopword removal','Klassifikator \\n mit Uni-Grammen \\n mit Stopword \\n removal'))\n",
        "plt.ylim(0.84, 0.92)\n",
        "plt.show()"
      ],
      "execution_count": null,
      "outputs": [
        {
          "output_type": "display_data",
          "data": {
            "image/png": "[encoded data removed]",
            "text/plain": [
              "<Figure size 432x288 with 1 Axes>"
            ]
          },
          "metadata": {
            "tags": [],
            "needs_background": "light"
          }
        }
      ]
    },
    {
      "cell_type": "code",
      "metadata": {
        "id": "NbaWTt4bAKBa",
        "outputId": "9bdb2ec8-f613-4cba-cc06-720e1ba91c10"
      },
      "source": [
        ""
      ],
      "execution_count": null,
      "outputs": [
        {
          "output_type": "error",
          "ename": "TypeError",
          "evalue": "object of type 'int' has no len()",
          "traceback": [
            "\u001b[0;31m---------------------------------------------------------------------------\u001b[0m",
            "\u001b[0;31mTypeError\u001b[0m                                 Traceback (most recent call last)",
            "\u001b[0;32m<ipython-input-88-dd1a1f3ed21f>\u001b[0m in \u001b[0;36m<module>\u001b[0;34m\u001b[0m\n\u001b[1;32m     12\u001b[0m \u001b[0;34m\u001b[0m\u001b[0m\n\u001b[1;32m     13\u001b[0m \u001b[0;31m# Get some pastel shades for the colors\u001b[0m\u001b[0;34m\u001b[0m\u001b[0;34m\u001b[0m\u001b[0;34m\u001b[0m\u001b[0m\n\u001b[0;32m---> 14\u001b[0;31m \u001b[0mcolors\u001b[0m \u001b[0;34m=\u001b[0m \u001b[0mplt\u001b[0m\u001b[0;34m.\u001b[0m\u001b[0mcm\u001b[0m\u001b[0;34m.\u001b[0m\u001b[0mBuPu\u001b[0m\u001b[0;34m(\u001b[0m\u001b[0mnp\u001b[0m\u001b[0;34m.\u001b[0m\u001b[0mlinspace\u001b[0m\u001b[0;34m(\u001b[0m\u001b[0;36m0\u001b[0m\u001b[0;34m,\u001b[0m \u001b[0;36m0.5\u001b[0m\u001b[0;34m,\u001b[0m \u001b[0mlen\u001b[0m\u001b[0;34m(\u001b[0m\u001b[0mrows\u001b[0m\u001b[0;34m)\u001b[0m\u001b[0;34m)\u001b[0m\u001b[0;34m)\u001b[0m\u001b[0;34m\u001b[0m\u001b[0;34m\u001b[0m\u001b[0m\n\u001b[0m\u001b[1;32m     15\u001b[0m \u001b[0mn_rows\u001b[0m \u001b[0;34m=\u001b[0m \u001b[0mlen\u001b[0m\u001b[0;34m(\u001b[0m\u001b[0mdata\u001b[0m\u001b[0;34m)\u001b[0m\u001b[0;34m\u001b[0m\u001b[0;34m\u001b[0m\u001b[0m\n\u001b[1;32m     16\u001b[0m \u001b[0;34m\u001b[0m\u001b[0m\n",
            "\u001b[0;31mTypeError\u001b[0m: object of type 'int' has no len()"
          ]
        }
      ]
    },
    {
      "cell_type": "code",
      "metadata": {
        "id": "x2uR0OggAKBc"
      },
      "source": [
        ""
      ],
      "execution_count": null,
      "outputs": []
    }
  ]
}